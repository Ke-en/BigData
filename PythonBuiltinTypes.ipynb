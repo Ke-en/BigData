{
 "cells": [
  {
   "cell_type": "markdown",
   "metadata": {},
   "source": [
    "Python Built-in Types\n",
    "\n",
    "https://docs.python.org/2/library/stdtypes.html"
   ]
  },
  {
   "cell_type": "code",
   "execution_count": null,
   "metadata": {},
   "outputs": [],
   "source": [
    "# Boolean and None\n",
    "t = True\n",
    "print(t)\n",
    "print(1==1)\n",
    "print(1!=2)\n",
    "print(1>2)\n",
    "\n",
    "n = None\n",
    "print(n)\n",
    "print(n==None)\n",
    "print(None==0)"
   ]
  },
  {
   "cell_type": "code",
   "execution_count": null,
   "metadata": {},
   "outputs": [],
   "source": [
    "# Numeric Types\n",
    "i = int(5)\n",
    "f = float(10.2)\n",
    "c = complex(1,1)\n",
    "\n",
    "print(i, f, c)\n",
    "print(type(i), type(f), type(c))\n",
    "print(10/3) # note that in Python 2 and 3, div has different operation!!\n",
    "print(10/3.0)"
   ]
  },
  {
   "cell_type": "code",
   "execution_count": null,
   "metadata": {},
   "outputs": [],
   "source": [
    "# Iterator Types\n",
    "it= iter([0,1,2,3,4,5,6,7,8,9])\n",
    "print(next(it))"
   ]
  },
  {
   "cell_type": "code",
   "execution_count": null,
   "metadata": {},
   "outputs": [],
   "source": [
    "# Sequence Types\n",
    "st = str(\"abcdefghijk\")\n",
    "li = list([0,1,2,3,4,5,6,7,8,9]) # List is a collection which is ordered and changeable. Allows duplicate members.\n",
    "tp = tuple((\"spring\", 1, True)) # Tuple is a collection which is ordered and unchangeable. Allows duplicate members.\n",
    "rg = range(10)\n",
    "\n",
    "print(st, li, tp, rg)"
   ]
  },
  {
   "cell_type": "code",
   "execution_count": null,
   "metadata": {},
   "outputs": [],
   "source": [
    "print(len(st), len(li), len(tp), len(rg))"
   ]
  },
  {
   "cell_type": "code",
   "execution_count": null,
   "metadata": {},
   "outputs": [],
   "source": [
    "# tuple has a ugly, but effective usage.\n",
    "tup = \"tup\", \n",
    "print(tup)\n",
    "\n",
    "tup = ()\n",
    "print(tup, len(tup))\n",
    "\n",
    "# Also, the reverse operation is also possible:\n",
    "tup = (1, \"string\", [1,2,3])\n",
    "x, y, z = tup\n",
    "print(x, y, z)"
   ]
  },
  {
   "cell_type": "code",
   "execution_count": null,
   "metadata": {},
   "outputs": [],
   "source": [
    "print('a' in st)\n",
    "print(4 in li)\n",
    "print(\"spring\" not in tp)\n",
    "print(5 in rg)\n",
    "\n",
    "print(\"abc\" in st)\n",
    "print([1,2,3] in li)\n",
    "\n",
    "print(st.startswith(\"abc\"))\n",
    "print(st.endswith(\"ijk\"))"
   ]
  },
  {
   "cell_type": "code",
   "execution_count": null,
   "metadata": {},
   "outputs": [],
   "source": [
    "print(st+str(li))\n",
    "print(li+list(st))"
   ]
  },
  {
   "cell_type": "code",
   "execution_count": null,
   "metadata": {},
   "outputs": [],
   "source": [
    "print(st*5)"
   ]
  },
  {
   "cell_type": "code",
   "execution_count": null,
   "metadata": {},
   "outputs": [],
   "source": [
    "print(len(st))\n",
    "print(st[4])\n",
    "print(st.index('b'))\n",
    "print((st*3).count('f'))"
   ]
  },
  {
   "cell_type": "code",
   "execution_count": null,
   "metadata": {},
   "outputs": [],
   "source": [
    "li = [1,2,3]\n",
    "print(li*3)\n",
    "lists = [[0]*3]*3\n",
    "print(lists)\n",
    "lists[1][1]=1\n",
    "print(lists)"
   ]
  },
  {
   "cell_type": "code",
   "execution_count": null,
   "metadata": {},
   "outputs": [],
   "source": [
    "a = [1, 2, 3]\n",
    "b = a[:] # it is a deep copy\n",
    "b[0] = 2\n",
    "print(a)\n",
    "print(b)"
   ]
  },
  {
   "cell_type": "code",
   "execution_count": null,
   "metadata": {},
   "outputs": [],
   "source": [
    "matrix  = [[0 for x in range(3)] for x in range(3)]\n",
    "print(matrix)\n",
    "matrix[1][2] = 1\n",
    "print(matrix)"
   ]
  },
  {
   "cell_type": "code",
   "execution_count": null,
   "metadata": {},
   "outputs": [],
   "source": [
    "# String\n",
    "st = \"index#name#address#phone\"\n",
    "tokens = st.split('#')\n",
    "print(tokens)"
   ]
  },
  {
   "cell_type": "code",
   "execution_count": null,
   "metadata": {},
   "outputs": [],
   "source": [
    "st = \" index # name # address # phone \"\n",
    "tokens = st.split('#')\n",
    "print(tokens)\n",
    "print(tokens[0].strip())"
   ]
  },
  {
   "cell_type": "code",
   "execution_count": null,
   "metadata": {},
   "outputs": [],
   "source": [
    "a = [1, 2]\n",
    "b = [3, 4]\n",
    "c = a + b\n",
    "print(c)\n",
    "\n",
    "a.append(2) # append an element\n",
    "print(a)\n",
    "print(\"a has\", a.count(2), \"2s.\")"
   ]
  },
  {
   "cell_type": "code",
   "execution_count": null,
   "metadata": {},
   "outputs": [],
   "source": [
    "a = [1, 2]\n",
    "a.extend([12]) # you should extend same type, not extend(12)\n",
    "print(a)"
   ]
  },
  {
   "cell_type": "code",
   "execution_count": null,
   "metadata": {},
   "outputs": [],
   "source": [
    "a = [1, 2, 3, 4]\n",
    "\n",
    "# what if I need [2, 4, 6, 8]\n",
    "b1 = [a*2] #?\n",
    "b2 = [i*2 for i in a] #?\n",
    "b3 = map(lambda x: x*2, a) #?\n",
    "\n",
    "#print b1\n",
    "#print b2\n",
    "#print b3"
   ]
  },
  {
   "cell_type": "code",
   "execution_count": null,
   "metadata": {},
   "outputs": [],
   "source": [
    "# Set Types\n",
    "# Set is a collection which is unordered and unindexed. No duplicate members.\n",
    "s = set()\n",
    "s.add(\"this\")\n",
    "print(s)\n",
    "s.add(\"is\")\n",
    "s.add(\"a\")\n",
    "s.add(\"book\")\n",
    "print(s)\n",
    "print(len(s))\n",
    "item = s.pop()\n",
    "print(item, s, len(s))\n",
    "s.remove(\"a\")\n",
    "print(s)\n",
    "s.clear()\n",
    "print(s)"
   ]
  },
  {
   "cell_type": "code",
   "execution_count": null,
   "metadata": {},
   "outputs": [],
   "source": [
    "s = {1, 2, 2, 3, 4, 5, 6}\n",
    "print(set(s))"
   ]
  },
  {
   "cell_type": "code",
   "execution_count": null,
   "metadata": {},
   "outputs": [],
   "source": [
    "# set has no index\n",
    "#print(s[0])\n",
    "s = {1, 2, 3, 4, 5, 6}\n",
    "t = {4, 5, 6, 7, 8, 9}\n",
    "\n",
    "a = t | s # union\n",
    "b = t & s # intersection\n",
    "c = t - s # difference\n",
    "d = t ^ s # ?\n",
    "\n",
    "print(a)\n",
    "print(b)\n",
    "print(c)\n",
    "print(d)"
   ]
  },
  {
   "cell_type": "code",
   "execution_count": null,
   "metadata": {},
   "outputs": [],
   "source": [
    "s1 = set([1,2,3,4,5,6])\n",
    "s2 = set([5,6,7,8,9,10])\n",
    "\n",
    "print(s1)\n",
    "print(s2)\n",
    "\n",
    "inter = s1.intersection(s2)\n",
    "union = s1.union(s2)\n",
    "\n",
    "print(inter)\n",
    "print(union)\n",
    "\n",
    "print(\"Jaccard simialarity = \", float(len(inter))/float(len(union)))"
   ]
  },
  {
   "cell_type": "code",
   "execution_count": null,
   "metadata": {},
   "outputs": [],
   "source": [
    "# Mapping Types\n",
    "\n",
    "# dic - Dictionary is a collection which is unordered, changeable and indexed. No duplicate members.\n",
    "a = dict(one=1, two=2, three=3)\n",
    "b = {'one': 1, 'two': 2, 'three': 3} # most often\n",
    "c = dict(zip(['one', 'two', 'three'], [1, 2, 3]))\n",
    "d = dict([('two', 2), ('one', 1), ('three', 3)])\n",
    "e = dict({'three': 3, 'one': 1, 'two': 2})\n",
    "print(a)\n",
    "print(a == b == c == d == e)"
   ]
  },
  {
   "cell_type": "code",
   "execution_count": null,
   "metadata": {},
   "outputs": [],
   "source": [
    "dic = {1: \"john\", 12: \"joe\", 34: \"george\"}\n",
    "print(len(d))\n",
    "print(d['one'])\n",
    "# print d[0] # dictionary has no index"
   ]
  }
 ],
 "metadata": {
  "kernelspec": {
   "display_name": "Python 3",
   "language": "python",
   "name": "python3"
  },
  "language_info": {
   "codemirror_mode": {
    "name": "ipython",
    "version": 3
   },
   "file_extension": ".py",
   "mimetype": "text/x-python",
   "name": "python",
   "nbconvert_exporter": "python",
   "pygments_lexer": "ipython3",
   "version": "3.6.5"
  }
 },
 "nbformat": 4,
 "nbformat_minor": 2
}
