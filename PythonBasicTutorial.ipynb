{
 "cells": [
  {
   "cell_type": "markdown",
   "metadata": {},
   "source": [
    "## Basics\n",
    "\n",
    "Python is a programming language that can be used on a server to create web applications."
   ]
  },
  {
   "cell_type": "code",
   "execution_count": 1,
   "metadata": {},
   "outputs": [],
   "source": [
    "# check your python version\n",
    "\n",
    "import sys\n",
    "print(sys.version_info)"
   ]
  },
  {
   "cell_type": "code",
   "execution_count": null,
   "metadata": {},
   "outputs": [],
   "source": [
    "# Python is a lossely typed language\n",
    "# A varaiable is created the moment you first assign a value to it.\n",
    "# variables do not need to be decalred and automatically change type after they have been set.\n",
    "\n",
    "x = 5\n",
    "y = \"John\"\n",
    "x = \"Sally\"\n",
    "print(x)\n",
    "print(y)"
   ]
  },
  {
   "cell_type": "code",
   "execution_count": null,
   "metadata": {},
   "outputs": [],
   "source": [
    "# + character can add a variable to another variable when variables are with the same type\n",
    "# x and y now are stings, so + can be the operator for string concatenation.\n",
    "\n",
    "print (x + y)\n",
    "\n",
    "# if x and y change to int, + works as a mathematical operator\n",
    "x = 5 \n",
    "y = 10\n",
    "print (x + y)"
   ]
  },
  {
   "cell_type": "code",
   "execution_count": null,
   "metadata": {},
   "outputs": [],
   "source": [
    "# there are three numeric types in python\n",
    "\n",
    "n1 = 1    # int\n",
    "n2 = 2.8  # float\n",
    "n3 = 1j   # complex\n",
    "print(type(n1))\n",
    "print(type(n2))\n",
    "print(type(n3))"
   ]
  },
  {
   "cell_type": "code",
   "execution_count": null,
   "metadata": {},
   "outputs": [],
   "source": [
    "# strings\n",
    "\n",
    "a = \"Hello, World! \"\n",
    "print(a[1])   # the first character has the position 0\n",
    "print(a[2:5]) # Get the characters from position 2 to position 5\n",
    "print(a.strip()) # removes any whitespace from the beginning or the end\n",
    "print(len(a)) # returns the length of a string\n",
    "print(a.lower()) # returns the string in lower case\n",
    "print(a.upper()) # returns the string in upper case\n",
    "print(a.replace(\"World\", \"BigData\")) # replaces a string with another string\n",
    "print(a.split(\",\")) # splits the string into substrings if it finds instances of the separator"
   ]
  },
  {
   "cell_type": "code",
   "execution_count": null,
   "metadata": {},
   "outputs": [],
   "source": [
    "# If/Else \n",
    "\n",
    "a = 51\n",
    "b = 30\n",
    "if b > a:\n",
    "    print(\"b is greater than a\")\n",
    "elif a == b:\n",
    "    print(\"a and b are equal\")\n",
    "else:\n",
    "    print(\"a is greater than b\")\n",
    "\n",
    "# another way to make the if/Else statment \n",
    "print(\"b is greater than a\") if b > a else print(\"a is greater than b\") if a == b else print(\"a and b are equal\")"
   ]
  },
  {
   "cell_type": "code",
   "execution_count": null,
   "metadata": {},
   "outputs": [],
   "source": [
    "# while loop\n",
    "\n",
    "k = 5\n",
    "while k > 0:\n",
    "    k = k - 1\n",
    "    print(k)"
   ]
  },
  {
   "cell_type": "code",
   "execution_count": null,
   "metadata": {},
   "outputs": [],
   "source": [
    "# for loop\n",
    "\n",
    "for i in range(5):\n",
    "    print(i)"
   ]
  },
  {
   "cell_type": "markdown",
   "metadata": {},
   "source": [
    "### Function and Class\n",
    "\n",
    "#### function\n",
    "A function is a block of code which runs when it is called. "
   ]
  },
  {
   "cell_type": "code",
   "execution_count": null,
   "metadata": {},
   "outputs": [],
   "source": [
    "def my_function(fname):\n",
    "    print(fname + \" welcome !\")\n",
    "\n",
    "my_function(\"Jenny\") # you can call your function by passing different parameters\n",
    "my_function(\"John\")\n",
    "\n",
    "def power2(x):\n",
    "    return x*x\n",
    "print power2(10)"
   ]
  },
  {
   "cell_type": "code",
   "execution_count": null,
   "metadata": {},
   "outputs": [],
   "source": [
    "# lambda is a function that can take any number of arguments, but can only have one expression.\n",
    "f = lambda x: x*x\n",
    "f(10)"
   ]
  },
  {
   "cell_type": "code",
   "execution_count": null,
   "metadata": {},
   "outputs": [],
   "source": [
    "# multuple returns\n",
    "def mfunc(x, y):\n",
    "    return y, x\n",
    "\n",
    "a, b = mfunc(3, 5)\n",
    "print(a, b)"
   ]
  },
  {
   "cell_type": "markdown",
   "metadata": {},
   "source": [
    "### class\n",
    "A Class is like an object constructor, or a \"blueprint\" for creating objects."
   ]
  },
  {
   "cell_type": "code",
   "execution_count": null,
   "metadata": {},
   "outputs": [],
   "source": [
    "class Person:\n",
    "    def __init__(self, name, age):\n",
    "        self.name = name\n",
    "        self.age = age\n",
    "    def myfunc(self):\n",
    "        print(\"Hello my name is \" + self.name)\n",
    "\n",
    "p1 = Person(\"John\", 36)\n",
    "p1.myfunc()"
   ]
  },
  {
   "cell_type": "markdown",
   "metadata": {},
   "source": [
    "### import"
   ]
  },
  {
   "cell_type": "code",
   "execution_count": null,
   "metadata": {},
   "outputs": [],
   "source": [
    "import math\n",
    "print(math.sin(1))"
   ]
  },
  {
   "cell_type": "code",
   "execution_count": null,
   "metadata": {},
   "outputs": [],
   "source": [
    "import math as m\n",
    "print(m.sin(1))"
   ]
  },
  {
   "cell_type": "code",
   "execution_count": null,
   "metadata": {},
   "outputs": [],
   "source": [
    "from math import exp\n",
    "print(exp(1))"
   ]
  },
  {
   "cell_type": "code",
   "execution_count": null,
   "metadata": {},
   "outputs": [],
   "source": [
    "from math import *\n",
    "cos(1)"
   ]
  },
  {
   "cell_type": "code",
   "execution_count": null,
   "metadata": {},
   "outputs": [],
   "source": [
    "dir(math) # Returns a list of the specified object's properties and methods"
   ]
  },
  {
   "cell_type": "code",
   "execution_count": null,
   "metadata": {},
   "outputs": [],
   "source": [
    "dir() # Without arguments, dir() lists the names you have defined currently"
   ]
  },
  {
   "cell_type": "code",
   "execution_count": null,
   "metadata": {},
   "outputs": [],
   "source": [
    "# dir() does not list the names of built-in functions and variables.\n",
    "# If you want a list of those, they are defined in the standard module builtins\n",
    "\n",
    "import builtins\n",
    "print(dir(builtins))"
   ]
  }
 ],
 "metadata": {
  "kernelspec": {
   "display_name": "Python 3",
   "language": "python",
   "name": "python3"
  },
  "language_info": {
   "codemirror_mode": {
    "name": "ipython",
    "version": 3
   },
   "file_extension": ".py",
   "mimetype": "text/x-python",
   "name": "python",
   "nbconvert_exporter": "python",
   "pygments_lexer": "ipython3",
   "version": "3.6.5"
  }
 },
 "nbformat": 4,
 "nbformat_minor": 2
}
