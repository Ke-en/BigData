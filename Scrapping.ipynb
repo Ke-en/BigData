{
 "cells": [
  {
   "attachments": {},
   "cell_type": "markdown",
   "metadata": {},
   "source": [
    "### HTTP messages are how data is exchanged between a server and a client. There are two types of messages: requests sent by the client to trigger an action on the server, and responses, the answer from the server.\n",
    "\n",
    "The two most common HTTP methods are: GET and POST."
   ]
  },
  {
   "cell_type": "code",
   "execution_count": null,
   "metadata": {},
   "outputs": [],
   "source": [
    "import requests\n",
    "\n",
    "response = requests.get(\"http://yahoo.com.tw\")\n",
    "response"
   ]
  },
  {
   "cell_type": "code",
   "execution_count": null,
   "metadata": {},
   "outputs": [],
   "source": [
    "response.encoding"
   ]
  },
  {
   "cell_type": "markdown",
   "metadata": {},
   "source": [
    "response.text returns the content in unicode"
   ]
  },
  {
   "cell_type": "raw",
   "metadata": {},
   "source": [
    "response.text"
   ]
  },
  {
   "cell_type": "markdown",
   "metadata": {},
   "source": [
    "response.content returns the content in bytes"
   ]
  },
  {
   "cell_type": "code",
   "execution_count": null,
   "metadata": {},
   "outputs": [],
   "source": [
    "response.content"
   ]
  },
  {
   "cell_type": "markdown",
   "metadata": {},
   "source": [
    "### BeautifulSoup https://www.crummy.com/software/BeautifulSoup/"
   ]
  },
  {
   "cell_type": "code",
   "execution_count": null,
   "metadata": {},
   "outputs": [],
   "source": [
    "from bs4 import BeautifulSoup\n",
    "soup = BeautifulSoup(response.text, 'lxml')\n",
    "print(soup.prettify())"
   ]
  },
  {
   "cell_type": "code",
   "execution_count": null,
   "metadata": {},
   "outputs": [],
   "source": [
    "html_doc = \"\"\"\n",
    "<html><head><title>Hello World</title></head>\n",
    "<body><h2>Test Header</h2>\n",
    "<p>This is a test.</p>\n",
    "<table><tr><td>\n",
    "<a id=\"link1\" class=\"zzz\" href=\"/my_link1\">Link text</a>\n",
    "</td><td>\n",
    "<a id=\"link2\" class=\"123\" href=\"/my_link2\">Link text</a>\n",
    "</td></tr>\n",
    "</table>\n",
    "<p>Hello, <b class=\"boldtext\">Bold text</b><b class=\"zzz\">zzz text</b></p>\n",
    "</body></html>\n",
    "\"\"\"\n",
    "\n",
    "soup = BeautifulSoup(html_doc, 'lxml')\n",
    "print(soup.prettify())"
   ]
  },
  {
   "cell_type": "code",
   "execution_count": null,
   "metadata": {},
   "outputs": [],
   "source": [
    "print(soup.find(\"a\"))"
   ]
  },
  {
   "cell_type": "code",
   "execution_count": null,
   "metadata": {},
   "outputs": [],
   "source": [
    "print(soup.a)"
   ]
  },
  {
   "cell_type": "code",
   "execution_count": null,
   "metadata": {},
   "outputs": [],
   "source": [
    "print(soup.html.a)"
   ]
  },
  {
   "cell_type": "code",
   "execution_count": null,
   "metadata": {},
   "outputs": [],
   "source": [
    "print(soup.find(\"a\").text)"
   ]
  },
  {
   "cell_type": "code",
   "execution_count": null,
   "metadata": {},
   "outputs": [],
   "source": [
    "print(soup.find(\"a\").attrs)"
   ]
  },
  {
   "cell_type": "code",
   "execution_count": null,
   "metadata": {},
   "outputs": [],
   "source": [
    "print(soup.find(\"a\")[\"href\"])"
   ]
  },
  {
   "cell_type": "code",
   "execution_count": null,
   "metadata": {},
   "outputs": [],
   "source": [
    "print(soup.find_all(\"a\"))"
   ]
  },
  {
   "cell_type": "code",
   "execution_count": null,
   "metadata": {},
   "outputs": [],
   "source": [
    "a_tags = soup.find_all('a')\n",
    "for tag in a_tags:\n",
    "    print(tag.string)"
   ]
  },
  {
   "cell_type": "code",
   "execution_count": null,
   "metadata": {},
   "outputs": [],
   "source": [
    "for tag in a_tags:\n",
    "    print(tag.get('href'))\n"
   ]
  },
  {
   "cell_type": "code",
   "execution_count": null,
   "metadata": {},
   "outputs": [],
   "source": [
    "tags = soup.find_all([\"a\", \"b\"])\n",
    "print(tags)"
   ]
  },
  {
   "cell_type": "code",
   "execution_count": null,
   "metadata": {},
   "outputs": [],
   "source": [
    "tags = soup.find_all(\"\", {\"class\":\"zzz\"})\n",
    "print(tags)"
   ]
  },
  {
   "cell_type": "code",
   "execution_count": null,
   "metadata": {},
   "outputs": [],
   "source": [
    "tags = soup.find_all(\"td\")[1].find(\"a\")\n",
    "print(tags)"
   ]
  },
  {
   "cell_type": "code",
   "execution_count": null,
   "metadata": {},
   "outputs": [],
   "source": [
    "tags = soup.find_all(\"\", text = \"Link text\")\n",
    "print(tags)"
   ]
  },
  {
   "cell_type": "markdown",
   "metadata": {},
   "source": [
    "### Regular Expression"
   ]
  },
  {
   "cell_type": "code",
   "execution_count": null,
   "metadata": {},
   "outputs": [],
   "source": [
    "import re\n",
    "test_string = \"aabb abb aab\"\n",
    "pattern =\"a+b\"\n",
    "ans=re.findall(pattern, test_string)\n",
    "print(ans)"
   ]
  },
  {
   "cell_type": "code",
   "execution_count": null,
   "metadata": {},
   "outputs": [],
   "source": [
    "test_string = \"find abbbbc, bc, skip c, acc\"\n",
    "pattern =\"a*b+c\"\n",
    "ans=re.findall(pattern, test_string)\n",
    "print(ans)"
   ]
  },
  {
   "cell_type": "code",
   "execution_count": null,
   "metadata": {},
   "outputs": [],
   "source": [
    "# finding numbers\n",
    "test_string = \"12 Drummers Drumming, 11 Pipers Piping, 10 Lords a Leaping\"\n",
    "pattern =\"[0-9]+\"\n",
    "ans=re.findall(pattern, test_string)\n",
    "print(ans)"
   ]
  },
  {
   "cell_type": "code",
   "execution_count": null,
   "metadata": {},
   "outputs": [],
   "source": [
    "# finding substring\n",
    "test_string = \"find can, man, fan skip dan, ran, pan \"\n",
    "pattern =\"[cmf]an\"\n",
    "ans=re.findall(pattern, test_string)\n",
    "print(ans)"
   ]
  },
  {
   "cell_type": "code",
   "execution_count": null,
   "metadata": {},
   "outputs": [],
   "source": [
    "# finding special characters\n",
    "test_string = \"find 591., dot., yes., skip non! \"\n",
    "pattern =\".{3}\\.\"\n",
    "ans=re.findall(pattern, test_string)\n",
    "print(ans)"
   ]
  },
  {
   "cell_type": "code",
   "execution_count": null,
   "metadata": {},
   "outputs": [],
   "source": [
    "# find in conditions\n",
    "test_string = \"find I love cats, I love dogs,  skip I love logs, I love cogs \"\n",
    "pattern =\"I love cats|I love dogs\"\n",
    "ans=re.findall(pattern, test_string)\n",
    "print(ans)"
   ]
  },
  {
   "cell_type": "markdown",
   "metadata": {},
   "source": [
    "### BeautifulSoup + Regular Expression"
   ]
  },
  {
   "cell_type": "code",
   "execution_count": null,
   "metadata": {},
   "outputs": [],
   "source": [
    "import requests, re\n",
    "response = requests.get(\"http://yp.518.com.tw/service-life.html?ctf=10\")\n",
    "response"
   ]
  },
  {
   "cell_type": "code",
   "execution_count": null,
   "metadata": {},
   "outputs": [],
   "source": [
    "from bs4 import BeautifulSoup\n",
    "soup = BeautifulSoup(response.text, \"lxml\")\n",
    "print(soup.find_all(\"li\",{\"class\":\"comp_loca\"}, text=re.compile(\"新北\")))"
   ]
  },
  {
   "cell_type": "markdown",
   "metadata": {},
   "source": [
    "### Dynamic Website "
   ]
  },
  {
   "cell_type": "code",
   "execution_count": null,
   "metadata": {},
   "outputs": [],
   "source": [
    "import requests\n",
    "from bs4 import BeautifulSoup\n",
    "form_data={\n",
    "    'name1' : 'value1',\n",
    "    'name2' : 'value2'\n",
    "}\n",
    "\n",
    "response_post = requests.post(\"http://mops.twse.com.tw/mops/web/t51sb01\", data= form_data)\n",
    "soup_post = BeautifulSoup(response_post.text, \"lxml\")\n",
    "print(soup_post.prettify())"
   ]
  },
  {
   "cell_type": "code",
   "execution_count": null,
   "metadata": {},
   "outputs": [],
   "source": [
    "import re\n",
    "selects= soup_post.find_all('select')\n",
    "options = selects[1].find_all('option')\n",
    "for option in options:\n",
    "    print(option.text)"
   ]
  },
  {
   "cell_type": "code",
   "execution_count": null,
   "metadata": {},
   "outputs": [],
   "source": [
    "import requests\n",
    "from bs4 import BeautifulSoup\n",
    "form_data={\n",
    "    \"encodeURIComponent\" : \"1\",\n",
    "    \"step\" :\"1\",\n",
    "    \"firstin\":\"1\",\n",
    "    \"TYPEK\":\"sii\",\n",
    "    \"code\":\"01\"\n",
    "}\n",
    "\n",
    "response_post = requests.post(\"http://mops.twse.com.tw/mops/web/t51sb01\", data= form_data)\n",
    "soup_post = BeautifulSoup(response_post.text, \"lxml\")\n",
    "print(soup_post.prettify())"
   ]
  },
  {
   "cell_type": "code",
   "execution_count": null,
   "metadata": {},
   "outputs": [],
   "source": [
    "tables = soup_post.find_all('table')\n",
    "for tr in tables[13].find_all('tr'):\n",
    "    line=\"\";\n",
    "    for td in tr.find_all('td'):\n",
    "        line= line+\" \"+td.text\n",
    "    line = line+\"\\n\"\n",
    "    print(line)\n",
    "print(tables[14].td.text)"
   ]
  },
  {
   "cell_type": "markdown",
   "metadata": {},
   "source": [
    "### Save scrapping data into csv"
   ]
  },
  {
   "cell_type": "code",
   "execution_count": null,
   "metadata": {},
   "outputs": [],
   "source": [
    "import requests, re\n",
    "response = requests.get(\"http://yp.518.com.tw/service-life.html?ctf=10\")\n",
    "response.encoding"
   ]
  },
  {
   "cell_type": "code",
   "execution_count": null,
   "metadata": {},
   "outputs": [],
   "source": [
    "from bs4 import BeautifulSoup\n",
    "soup = BeautifulSoup(response.text, \"lxml\")\n",
    "name_phone = [tag.text for tag in soup.find_all(\"li\",{\"class\":\"comp_tel\"})]\n",
    "name_phone"
   ]
  },
  {
   "cell_type": "code",
   "execution_count": null,
   "metadata": {},
   "outputs": [],
   "source": [
    "address = [tag.text for tag in soup.find_all(\"li\",class_=\"comp_loca\")]\n",
    "address"
   ]
  },
  {
   "cell_type": "code",
   "execution_count": null,
   "metadata": {},
   "outputs": [],
   "source": [
    "name_phone_str = \"\".join(name_phone)\n",
    "phone = re.findall(\"[0-9]{2}-[0-9]+\",name_phone_str)\n",
    "phone"
   ]
  },
  {
   "cell_type": "code",
   "execution_count": null,
   "metadata": {},
   "outputs": [],
   "source": [
    "name = [x.split(\"/\")[0].strip() for x in name_phone]\n",
    "name"
   ]
  },
  {
   "cell_type": "code",
   "execution_count": null,
   "metadata": {},
   "outputs": [],
   "source": [
    "df = pd.DataFrame({\"店名\":name, \"地址\":address, \"電話\":phone}, columns =[\"店名\",\"地址\",\"電話\"])\n",
    "df"
   ]
  },
  {
   "cell_type": "code",
   "execution_count": null,
   "metadata": {},
   "outputs": [],
   "source": [
    "df.to_csv(\"csv_results/518practice.csv\",index = False, encoding=\"UTF-8\")"
   ]
  }
 ],
 "metadata": {
  "kernelspec": {
   "display_name": "Python 3",
   "language": "python",
   "name": "python3"
  },
  "language_info": {
   "codemirror_mode": {
    "name": "ipython",
    "version": 3
   },
   "file_extension": ".py",
   "mimetype": "text/x-python",
   "name": "python",
   "nbconvert_exporter": "python",
   "pygments_lexer": "ipython3",
   "version": "3.6.5"
  }
 },
 "nbformat": 4,
 "nbformat_minor": 2
}
